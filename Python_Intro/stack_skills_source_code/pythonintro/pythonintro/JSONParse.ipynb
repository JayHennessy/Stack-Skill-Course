{
 "cells": [
  {
   "cell_type": "code",
   "execution_count": 1,
   "metadata": {
    "collapsed": true
   },
   "outputs": [],
   "source": [
    "import json\n",
    "import requests\n",
    "from pprint import pprint"
   ]
  },
  {
   "cell_type": "code",
   "execution_count": 2,
   "metadata": {
    "collapsed": true
   },
   "outputs": [],
   "source": [
    "url = 'http://api.openweathermap.org/data/2.5/forecast'\n",
    "paramDict = {'q': 'London,UK', 'units': 'metric', 'appid': '5d4de404dbbe5bf7025ad72715503f15', 'cnt': 5}\n"
   ]
  },
  {
   "cell_type": "code",
   "execution_count": 3,
   "metadata": {
    "collapsed": true
   },
   "outputs": [],
   "source": [
    "response = requests.get(url, params=paramDict)\n",
    "parsed_json = response.json();"
   ]
  },
  {
   "cell_type": "code",
   "execution_count": 4,
   "metadata": {},
   "outputs": [
    {
     "name": "stdout",
     "output_type": "stream",
     "text": [
      "{'city': {'coord': {'lat': 51.5085, 'lon': -0.1258},\n",
      "          'country': 'GB',\n",
      "          'id': 2643743,\n",
      "          'name': 'London',\n",
      "          'population': 1000000},\n",
      " 'cnt': 5,\n",
      " 'cod': '200',\n",
      " 'list': [{'clouds': {'all': 64},\n",
      "           'dt': 1518102000,\n",
      "           'dt_txt': '2018-02-08 15:00:00',\n",
      "           'main': {'grnd_level': 1021.72,\n",
      "                    'humidity': 72,\n",
      "                    'pressure': 1021.72,\n",
      "                    'sea_level': 1029.49,\n",
      "                    'temp': 8.35,\n",
      "                    'temp_kf': 1.66,\n",
      "                    'temp_max': 8.35,\n",
      "                    'temp_min': 6.69},\n",
      "           'sys': {'pod': 'd'},\n",
      "           'weather': [{'description': 'broken clouds',\n",
      "                        'icon': '04d',\n",
      "                        'id': 803,\n",
      "                        'main': 'Clouds'}],\n",
      "           'wind': {'deg': 212.001, 'speed': 5.37}},\n",
      "          {'clouds': {'all': 48},\n",
      "           'dt': 1518112800,\n",
      "           'dt_txt': '2018-02-08 18:00:00',\n",
      "           'main': {'grnd_level': 1019.94,\n",
      "                    'humidity': 77,\n",
      "                    'pressure': 1019.94,\n",
      "                    'sea_level': 1027.66,\n",
      "                    'temp': 6.51,\n",
      "                    'temp_kf': 1.24,\n",
      "                    'temp_max': 6.51,\n",
      "                    'temp_min': 5.27},\n",
      "           'rain': {'3h': 0.015},\n",
      "           'sys': {'pod': 'n'},\n",
      "           'weather': [{'description': 'light rain',\n",
      "                        'icon': '10n',\n",
      "                        'id': 500,\n",
      "                        'main': 'Rain'}],\n",
      "           'wind': {'deg': 209.001, 'speed': 5.71}},\n",
      "          {'clouds': {'all': 88},\n",
      "           'dt': 1518123600,\n",
      "           'dt_txt': '2018-02-08 21:00:00',\n",
      "           'main': {'grnd_level': 1017.85,\n",
      "                    'humidity': 82,\n",
      "                    'pressure': 1017.85,\n",
      "                    'sea_level': 1025.61,\n",
      "                    'temp': 6.12,\n",
      "                    'temp_kf': 0.83,\n",
      "                    'temp_max': 6.12,\n",
      "                    'temp_min': 5.3},\n",
      "           'rain': {'3h': 0.09},\n",
      "           'sys': {'pod': 'n'},\n",
      "           'weather': [{'description': 'light rain',\n",
      "                        'icon': '10n',\n",
      "                        'id': 500,\n",
      "                        'main': 'Rain'}],\n",
      "           'wind': {'deg': 207.001, 'speed': 6.56}},\n",
      "          {'clouds': {'all': 92},\n",
      "           'dt': 1518134400,\n",
      "           'dt_txt': '2018-02-09 00:00:00',\n",
      "           'main': {'grnd_level': 1015.45,\n",
      "                    'humidity': 91,\n",
      "                    'pressure': 1015.45,\n",
      "                    'sea_level': 1023.14,\n",
      "                    'temp': 5.92,\n",
      "                    'temp_kf': 0.41,\n",
      "                    'temp_max': 5.92,\n",
      "                    'temp_min': 5.51},\n",
      "           'rain': {'3h': 1.56},\n",
      "           'sys': {'pod': 'n'},\n",
      "           'weather': [{'description': 'light rain',\n",
      "                        'icon': '10n',\n",
      "                        'id': 500,\n",
      "                        'main': 'Rain'}],\n",
      "           'wind': {'deg': 205.503, 'speed': 6.98}},\n",
      "          {'clouds': {'all': 92},\n",
      "           'dt': 1518145200,\n",
      "           'dt_txt': '2018-02-09 03:00:00',\n",
      "           'main': {'grnd_level': 1012.15,\n",
      "                    'humidity': 97,\n",
      "                    'pressure': 1012.15,\n",
      "                    'sea_level': 1019.94,\n",
      "                    'temp': 5.45,\n",
      "                    'temp_kf': 0,\n",
      "                    'temp_max': 5.45,\n",
      "                    'temp_min': 5.45},\n",
      "           'rain': {'3h': 3.555},\n",
      "           'sys': {'pod': 'n'},\n",
      "           'weather': [{'description': 'moderate rain',\n",
      "                        'icon': '10n',\n",
      "                        'id': 501,\n",
      "                        'main': 'Rain'}],\n",
      "           'wind': {'deg': 202, 'speed': 7.01}}],\n",
      " 'message': 0.0071}\n"
     ]
    }
   ],
   "source": [
    "pprint(parsed_json)"
   ]
  },
  {
   "cell_type": "code",
   "execution_count": 5,
   "metadata": {},
   "outputs": [
    {
     "name": "stdout",
     "output_type": "stream",
     "text": [
      "6.12\n"
     ]
    }
   ],
   "source": [
    "print(parsed_json['list'][2]['main']['temp_max'])"
   ]
  },
  {
   "cell_type": "code",
   "execution_count": 6,
   "metadata": {
    "collapsed": true
   },
   "outputs": [],
   "source": [
    "#This concise construction of one list from another is called list comprehension\n",
    "#There are also dictionary comprehensions\n",
    "maxarray = [x['main']['temp_max'] for x in parsed_json['list']]"
   ]
  },
  {
   "cell_type": "code",
   "execution_count": 7,
   "metadata": {},
   "outputs": [
    {
     "name": "stdout",
     "output_type": "stream",
     "text": [
      "[8.35, 6.51, 6.12, 5.92, 5.45]\n"
     ]
    }
   ],
   "source": [
    "print(maxarray)\n"
   ]
  },
  {
   "cell_type": "code",
   "execution_count": 8,
   "metadata": {},
   "outputs": [
    {
     "data": {
      "text/plain": [
       "8.35"
      ]
     },
     "execution_count": 8,
     "metadata": {},
     "output_type": "execute_result"
    }
   ],
   "source": [
    "max(maxarray)"
   ]
  },
  {
   "cell_type": "code",
   "execution_count": null,
   "metadata": {
    "collapsed": true
   },
   "outputs": [],
   "source": []
  },
  {
   "cell_type": "code",
   "execution_count": null,
   "metadata": {
    "collapsed": true
   },
   "outputs": [],
   "source": []
  },
  {
   "cell_type": "code",
   "execution_count": null,
   "metadata": {
    "collapsed": true
   },
   "outputs": [],
   "source": []
  }
 ],
 "metadata": {
  "kernelspec": {
   "display_name": "Python 3",
   "language": "python",
   "name": "python3"
  },
  "language_info": {
   "codemirror_mode": {
    "name": "ipython",
    "version": 3
   },
   "file_extension": ".py",
   "mimetype": "text/x-python",
   "name": "python",
   "nbconvert_exporter": "python",
   "pygments_lexer": "ipython3",
   "version": "3.6.3"
  }
 },
 "nbformat": 4,
 "nbformat_minor": 2
}
