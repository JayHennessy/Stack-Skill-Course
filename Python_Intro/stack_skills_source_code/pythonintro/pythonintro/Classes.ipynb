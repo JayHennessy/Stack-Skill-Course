{
 "cells": [
  {
   "cell_type": "code",
   "execution_count": 32,
   "metadata": {
    "collapsed": true
   },
   "outputs": [],
   "source": [
    "from functools import total_ordering\n",
    "\n",
    "@total_ordering\n",
    "class Customer:\n",
    "    customer_id = 0\n",
    "    \n",
    "    def __init__(self, name:str, car:str) -> None:\n",
    "        self.name = name\n",
    "        self.car = car\n",
    "        Customer.customer_id += 1\n",
    "        self.id = Customer.customer_id\n",
    "        self._payments = []\n",
    "        \n",
    "    def display_details(self):\n",
    "        print('Name: %s\\nID: %i\\nCar: %s' %(self.name, self.id, self.car))\n",
    "        \n",
    "    def update_car(self, car:str) -> None:\n",
    "        self.car = car\n",
    "        \n",
    "    def __repr__(self):\n",
    "        return str('Name: %s\\nID: %i\\nCar: %s' %(self.name, self.id, self.car))\n",
    "    \n",
    "    def add_payment(self, amount):\n",
    "        if not isinstance(amount, int):\n",
    "            raise ValueError('The value for amount needs to be an int')\n",
    "        self._payments.append(amount)\n",
    "        \n",
    "    def __len__(self):\n",
    "        return len(self._payments)\n",
    "    \n",
    "    def __eq__(self, other):\n",
    "        return sum(self._payments) == sum(other._payments)\n",
    "    \n",
    "    def __lt__(self, other):\n",
    "        return sum(self._payments) < sum(other._payments)\n",
    "    "
   ]
  },
  {
   "cell_type": "code",
   "execution_count": 33,
   "metadata": {},
   "outputs": [
    {
     "name": "stdout",
     "output_type": "stream",
     "text": [
      "Name: Klara\n",
      "ID: 1\n",
      "Car: Audi A4\n"
     ]
    }
   ],
   "source": [
    "customer1 = Customer('Klara', 'Audi A4')\n",
    "customer1.display_details()"
   ]
  },
  {
   "cell_type": "code",
   "execution_count": 34,
   "metadata": {},
   "outputs": [
    {
     "name": "stdout",
     "output_type": "stream",
     "text": [
      "Name: Eric\n",
      "ID: 2\n",
      "Car: Mazda 6\n"
     ]
    }
   ],
   "source": [
    "customer2 = Customer('Eric', 'Mazda 6')\n",
    "customer2.display_details()"
   ]
  },
  {
   "cell_type": "code",
   "execution_count": 35,
   "metadata": {},
   "outputs": [
    {
     "name": "stdout",
     "output_type": "stream",
     "text": [
      "Name: Klara\n",
      "ID: 1\n",
      "Car: Volkswagen Golf\n"
     ]
    }
   ],
   "source": [
    "customer1.update_car('Volkswagen Golf')\n",
    "customer1.display_details()"
   ]
  },
  {
   "cell_type": "code",
   "execution_count": 36,
   "metadata": {},
   "outputs": [
    {
     "name": "stdout",
     "output_type": "stream",
     "text": [
      "Customer count:  2\n"
     ]
    }
   ],
   "source": [
    "print(\"Customer count: \", Customer.customer_id)"
   ]
  },
  {
   "cell_type": "code",
   "execution_count": 37,
   "metadata": {},
   "outputs": [
    {
     "name": "stdout",
     "output_type": "stream",
     "text": [
      "Name: Klara\n",
      "ID: 1\n",
      "Car: Volkswagen Golf\n"
     ]
    }
   ],
   "source": [
    "print(customer1)"
   ]
  },
  {
   "cell_type": "code",
   "execution_count": 38,
   "metadata": {
    "collapsed": true
   },
   "outputs": [],
   "source": [
    "customer1.add_payment(30)\n",
    "customer1.add_payment(24)\n",
    "customer1.add_payment(33)\n",
    "customer1.add_payment(37)"
   ]
  },
  {
   "cell_type": "code",
   "execution_count": 39,
   "metadata": {},
   "outputs": [
    {
     "data": {
      "text/plain": [
       "4"
      ]
     },
     "execution_count": 39,
     "metadata": {},
     "output_type": "execute_result"
    }
   ],
   "source": [
    "len(customer1)"
   ]
  },
  {
   "cell_type": "code",
   "execution_count": 40,
   "metadata": {
    "collapsed": true
   },
   "outputs": [],
   "source": [
    "customer2.add_payment(36)\n",
    "customer2.add_payment(35)\n",
    "customer2.add_payment(35)"
   ]
  },
  {
   "cell_type": "code",
   "execution_count": 41,
   "metadata": {},
   "outputs": [
    {
     "data": {
      "text/plain": [
       "3"
      ]
     },
     "execution_count": 41,
     "metadata": {},
     "output_type": "execute_result"
    }
   ],
   "source": [
    "len(customer2)"
   ]
  },
  {
   "cell_type": "code",
   "execution_count": 42,
   "metadata": {},
   "outputs": [
    {
     "data": {
      "text/plain": [
       "True"
      ]
     },
     "execution_count": 42,
     "metadata": {},
     "output_type": "execute_result"
    }
   ],
   "source": [
    "customer1 > customer2"
   ]
  },
  {
   "cell_type": "code",
   "execution_count": 43,
   "metadata": {
    "collapsed": true
   },
   "outputs": [],
   "source": [
    "customer2.add_payment(41)"
   ]
  },
  {
   "cell_type": "code",
   "execution_count": 44,
   "metadata": {},
   "outputs": [
    {
     "data": {
      "text/plain": [
       "False"
      ]
     },
     "execution_count": 44,
     "metadata": {},
     "output_type": "execute_result"
    }
   ],
   "source": [
    "customer1 > customer2"
   ]
  },
  {
   "cell_type": "code",
   "execution_count": null,
   "metadata": {
    "collapsed": true
   },
   "outputs": [],
   "source": []
  }
 ],
 "metadata": {
  "kernelspec": {
   "display_name": "Python 3",
   "language": "python",
   "name": "python3"
  },
  "language_info": {
   "codemirror_mode": {
    "name": "ipython",
    "version": 3
   },
   "file_extension": ".py",
   "mimetype": "text/x-python",
   "name": "python",
   "nbconvert_exporter": "python",
   "pygments_lexer": "ipython3",
   "version": "3.6.3"
  }
 },
 "nbformat": 4,
 "nbformat_minor": 2
}
